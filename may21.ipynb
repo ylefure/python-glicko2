{
 "cells": [
  {
   "cell_type": "code",
   "execution_count": 1,
   "metadata": {},
   "outputs": [],
   "source": [
    "#A notebook for calculating changes in player's Glicko-2 rating. See: http://www.glicko.net/glicko/glicko2.pdf\n",
    "#Initial values are taken from a txt file of comma-separated values of the form: user,rating,RD,volatility\n",
    "#Game results are to be entered using the game() function in the appropiate cell.\n",
    "#I recommend restarting the kernel and reruning the whole notebook everytime this code is used, to avoid any unforseen complications."
   ]
  },
  {
   "cell_type": "code",
   "execution_count": 2,
   "metadata": {},
   "outputs": [],
   "source": [
    "from math import *\n",
    "import csv\n",
    "from tabulate import tabulate # to install: pip install tabulate"
   ]
  },
  {
   "cell_type": "code",
   "execution_count": 3,
   "metadata": {},
   "outputs": [],
   "source": [
    "tau = 1 # System constant. Sensibility to unexpected results."
   ]
  },
  {
   "cell_type": "code",
   "execution_count": 4,
   "metadata": {},
   "outputs": [],
   "source": [
    "# Step 1:\n",
    "# We extract player info. from a .txt csv\n",
    "# assuming player,rating,RD,volatility\n",
    "with open(r'C:\\Users\\nixil\\Desktop\\Glicko\\Ratings\\may-01-21.txt','r') as datafile: # data file must be updated monthly\n",
    "    separatedata = csv.reader(datafile, delimiter=',')\n",
    "    player_rows = [row for row in separatedata]\n",
    "    player_list = [player_data[0] for player_data in player_rows] # this list will make future code easier to write\n",
    "\n",
    "#    Notice:\n",
    "#    player_row[j][0]: user\n",
    "#    player_row[j][1]: rating\n",
    "#    player_row[j][2]: RD\n",
    "#    player_row[j][3]: volatility"
   ]
  },
  {
   "cell_type": "code",
   "execution_count": 5,
   "metadata": {},
   "outputs": [],
   "source": [
    "# Create a dictionary for ratings, RDs and volatilities\n",
    "rating = {player_data[0]:float(player_data[1]) for player_data in player_rows}\n",
    "RD = {player_data[0]:float(player_data[2]) for player_data in player_rows}\n",
    "volatility = {player_data[0]:float(player_data[3]) for player_data in player_rows}\n",
    "\n",
    "# Add dictionaries with empty lists as values to store match data: opponent ratings, RDs and game score.\n",
    "# If there are no problems, each player must have the same amount of list elements for each of the following,\n",
    "# and they must be well-ordered\n",
    "opp_ratings = {player_data[0]:[] for player_data in player_rows}\n",
    "opp_RD = {player_data[0]:[] for player_data in player_rows}\n",
    "score = {player_data[0]:[] for player_data in player_rows}"
   ]
  },
  {
   "cell_type": "code",
   "execution_count": 6,
   "metadata": {},
   "outputs": [
    {
     "name": "stdout",
     "output_type": "stream",
     "text": [
      "Player              Rating    RD\n",
      "----------------  --------  ----\n",
      "LrntSltf              2050    50\n",
      "Ptsmooth              2016    50\n",
      "JDCannon              1950    50\n",
      "ChessPriyome          1866    50\n",
      "wierzba95             1650    50\n",
      "PrestaJay             1575    50\n",
      "BobG                  1550    50\n",
      "BairnOwl              1500    50\n",
      "Mourato               1475    50\n",
      "synikall              1400    50\n",
      "Rctfan                1350    50\n",
      "Eaglevents            1300    50\n",
      "AndyW                 1300    50\n",
      "Matteo Demicheli      1175    50\n",
      "Birdsell              1150    50\n",
      "coriollis             1050    50\n",
      "Safuya                1050    50\n",
      "arghasen              1000    50\n",
      "GaussPi100            1000    50\n",
      "50tzent                700    50\n",
      "Matt (simul)          1800    75\n"
     ]
    }
   ],
   "source": [
    "# For comparison, a table with initial values:\n",
    "initial_table = [['Player', 'Rating', 'RD']]\n",
    "for player in player_list:\n",
    "    initial_table.append([player, rating[player], RD[player]])\n",
    "print(tabulate(initial_table,headers='firstrow'))"
   ]
  },
  {
   "cell_type": "code",
   "execution_count": 7,
   "metadata": {},
   "outputs": [],
   "source": [
    "# Update dictionaries for ratings and RDs\n",
    "# in Glicko-2 scale (step 2)\n",
    "for player in player_list:\n",
    "    rating[player] = (rating[player] - 1500)/173.7178\n",
    "    RD[player] = RD[player]/173.7178"
   ]
  },
  {
   "cell_type": "code",
   "execution_count": 8,
   "metadata": {},
   "outputs": [],
   "source": [
    "#Defining useful functions\n",
    "def game(white, black, result):\n",
    "    \"\"\"\n",
    "    Stores the results of a game between white and black in their corresponding dictionary value.\n",
    "    'white' and 'black' are strings (and must be written in \"\" or '') of player names\n",
    "    result is 1 if white won, -1 if black won, 0 if draw\n",
    "    \"\"\"\n",
    "    \n",
    "    opp_ratings[white].append(rating[black])\n",
    "    opp_ratings[black].append(rating[white])\n",
    "    \n",
    "    opp_RD[white].append(RD[black])\n",
    "    opp_RD[black].append(RD[white])\n",
    "    \n",
    "    if result == 1:\n",
    "        score[white].append(1)\n",
    "        score[black].append(0)\n",
    "    elif result == -1:\n",
    "        score[black].append(1)\n",
    "        score[white].append(0)\n",
    "    elif result == 0:\n",
    "        score[black].append(0.5)\n",
    "        score[white].append(0.5)\n",
    "\n",
    "def g(phi):\n",
    "    \"\"\"\n",
    "    Defines the g() function described in step 3 of Glickman's paper.\n",
    "    \"\"\"\n",
    "    return 1/sqrt(1 + 3*phi*phi/pi/pi)\n",
    "\n",
    "def E(mu, mu_j, phi_j):\n",
    "    \"\"\"\n",
    "    Defines the E() function described in step 3 of Glickman's paper.\n",
    "    \"\"\"\n",
    "    return 1/(1 + exp(-g(phi_j)*(mu - mu_j)))"
   ]
  },
  {
   "cell_type": "code",
   "execution_count": 9,
   "metadata": {},
   "outputs": [],
   "source": [
    "# where the new values will be stored:\n",
    "rating_new = {}\n",
    "RD_new = {}\n",
    "volatility_new = {}"
   ]
  },
  {
   "cell_type": "code",
   "execution_count": 10,
   "metadata": {},
   "outputs": [],
   "source": [
    "# Main algorithm:\n",
    "\n",
    "def data_update():\n",
    "    \"\"\"\n",
    "    The main algorithm for updating ratings. When executed, will update player data based on game results\n",
    "    and write it in their new dictionaries.\n",
    "    \"\"\"\n",
    "    for player in player_list:\n",
    "\n",
    "        m = len(score[player]) #number of games played by player\n",
    "\n",
    "        if m == 0: # in case a player played no games\n",
    "            rating_new[player] = rating[player]\n",
    "            volatility_new[player] = volatility[player]\n",
    "            RD_new[player] = sqrt(RD[player]**2 + volatility[player]**2)\n",
    "\n",
    "            continue # go to next player\n",
    "\n",
    "        # Step 3:\n",
    "        v = 0 #initial variance value\n",
    "        for j in range(m):\n",
    "            v = v + g(opp_RD[player][j])**2 * E(rating[player], opp_ratings[player][j], opp_RD[player][j]) * (1 - E(rating[player], opp_ratings[player][j], opp_RD[player][j]))\n",
    "        v = 1/v\n",
    "\n",
    "        # Step 4:\n",
    "        Delta = 0 #init. value\n",
    "        for j in range(m):\n",
    "            Delta = Delta + g(opp_RD[player][j])*(score[player][j] - E(rating[player], opp_ratings[player][j], opp_RD[player][j]))\n",
    "        Delta = Delta * v\n",
    "\n",
    "        # Step 5:\n",
    "        a = log(volatility[player]**2)\n",
    "        def f(x):\n",
    "            return (exp(x)*(Delta**2 - RD[player]**2 - v - exp(x)))/(2*(RD[player]**2 + v + exp(x))**2) - (x - a)/(tau**2)\n",
    "        epsilon = 0.000001\n",
    "\n",
    "        A = a\n",
    "        k = 1\n",
    "        if Delta**2 > RD[player]**2 + v:\n",
    "            B = log(Delta**2 - RD[player]**2 - v)\n",
    "        else:\n",
    "            while f(a - k*tau) < 0:\n",
    "                k = k + 1\n",
    "            B = a - k*tau\n",
    "\n",
    "        f_A = f(A)\n",
    "        f_B = f(B)\n",
    "\n",
    "        while abs(B-A) > epsilon:\n",
    "            C = A + (A-B)*f_A/(f_B - f_A)\n",
    "            f_C = f(C)\n",
    "            if f_C*f_B < 0:\n",
    "                A = B\n",
    "                f_A = f_B\n",
    "            else:\n",
    "                f_A = f_A/2\n",
    "            B = C\n",
    "            f_B = f_C\n",
    "\n",
    "        volatility_new[player] = exp(A/2)\n",
    "\n",
    "        # Step 6\n",
    "        phi_star = sqrt(RD[player]**2 + volatility_new[player]**2)\n",
    "\n",
    "        # Step 7:\n",
    "\n",
    "        RD_new[player] = 1/sqrt(1/phi_star/phi_star + 1/v)\n",
    "\n",
    "        mu_prime = 0 #init. value\n",
    "        for j in range(m):\n",
    "            mu_prime = mu_prime + g(opp_RD[player][j])*(score[player][j] - E(rating[player], opp_ratings[player][j], opp_RD[player][j]))\n",
    "        mu_prime = mu_prime*RD_new[player]**2 + rating[player]\n",
    "        rating_new[player] = mu_prime"
   ]
  },
  {
   "cell_type": "code",
   "execution_count": 11,
   "metadata": {},
   "outputs": [],
   "source": [
    "# GAME RESULTS.\n",
    "# Always specify game details (date, players, event, round, etc.) in notes for clarity.\n",
    "\n",
    "# May Classical:\n",
    "## R1:\n",
    "game('BairnOwl', 'BobG', 0)\n",
    "game('synikall', 'wierzba95', -1)\n",
    "game('Rctfan', 'coriollis', 1)\n",
    "game('arghasen', 'Birdsell', 1)\n",
    "game('Matteo Demicheli', 'GaussPi100', 1) # assuming Matteo Demicheli is matt_chess_play\n",
    "## R2:\n",
    "game('BobG', 'JDCannon', 0)\n",
    "game('ChessPriyome', 'Mourato', 1)\n",
    "game('Matteo Demicheli','synikall', -1)\n",
    "game('arghasen','Rctfan',-1)\n",
    "game('coriollis','GaussPi100',-1)\n",
    "## R3:\n",
    "game('Mourato','Rctfan', -1)\n",
    "game('GaussPi100', 'arghasen', 0)\n",
    "game('Birdsell', 'Matteo Demicheli', -1)\n",
    "game('50tzent', 'coriollis', -1)\n",
    "\n",
    "# May team:\n",
    "game('JDCannon', 'ChessPriyome', 1)\n",
    "game('PrestaJay', 'wierzba95', -1)\n",
    "game('Mourato', 'synikall', 1)\n",
    "game('Rctfan', 'BobG', -1)\n",
    "game('Matteo Demicheli', 'Eaglevents', 1)\n",
    "game('arghasen', 'Birdsell', 1)\n",
    "\n",
    "# Simul.\n",
    "game('Matt (simul)', 'LrntSltf', 1)\n",
    "game('Matt (simul)', 'ChessPriyome', -1)\n",
    "game('Matt (simul)', 'wierzba95', 1)\n",
    "game('Matt (simul)', 'PrestaJay', 1)\n",
    "game('Matt (simul)', 'synikall', 1)\n",
    "game('Matt (simul)', 'Eaglevents', 1)\n",
    "game('Matt (simul)', 'coriollis', 1)"
   ]
  },
  {
   "cell_type": "code",
   "execution_count": 12,
   "metadata": {},
   "outputs": [],
   "source": [
    "# Calculation of new data\n",
    "data_update()"
   ]
  },
  {
   "cell_type": "code",
   "execution_count": 13,
   "metadata": {},
   "outputs": [],
   "source": [
    "# Glicko-2 to Glicko conversion (step 8):\n",
    "for player in player_list:\n",
    "    rating_new[player] = round(rating_new[player]*173.7178 + 1500)\n",
    "    RD_new[player] = round(RD_new[player]*173.7178)\n",
    "    volatility_new[player] = round(volatility_new[player], 3)"
   ]
  },
  {
   "cell_type": "code",
   "execution_count": 14,
   "metadata": {},
   "outputs": [],
   "source": [
    "# creating output txt file for future use\n",
    "with open(r'C:\\Users\\nixil\\Desktop\\Glicko\\Ratings\\jun-01-21.txt','w') as output_file:\n",
    "    result_writer = csv.writer(output_file, delimiter=',')\n",
    "    for player in player_list:\n",
    "        result_writer.writerow([player, rating_new[player], RD_new[player], volatility_new[player]])"
   ]
  },
  {
   "cell_type": "code",
   "execution_count": 15,
   "metadata": {},
   "outputs": [
    {
     "name": "stdout",
     "output_type": "stream",
     "text": [
      "Player              Rating    RD\n",
      "----------------  --------  ----\n",
      "LrntSltf              2038    51\n",
      "Ptsmooth              2016    51\n",
      "JDCannon              1950    50\n",
      "ChessPriyome          1868    50\n",
      "wierzba95             1654    50\n",
      "PrestaJay             1566    50\n",
      "BobG                  1562    50\n",
      "BairnOwl              1500    51\n",
      "Mourato               1470    50\n",
      "synikall              1393    50\n",
      "Rctfan                1360    50\n",
      "Eaglevents            1289    50\n",
      "AndyW                 1300    51\n",
      "Matteo Demicheli      1191    49\n",
      "Birdsell              1124    50\n",
      "coriollis             1041    50\n",
      "Safuya                1050    51\n",
      "arghasen              1018    49\n",
      "GaussPi100            1004    50\n",
      "50tzent                698    51\n",
      "Matt (simul)          1830    70\n"
     ]
    }
   ],
   "source": [
    "# creating table to share on Discord:\n",
    "table_rows = [['Player', 'Rating', 'RD']]\n",
    "for player in player_list:\n",
    "    table_rows.append([player, rating_new[player], RD_new[player]])\n",
    "print(tabulate(table_rows,headers='firstrow'))"
   ]
  }
 ],
 "metadata": {
  "kernelspec": {
   "display_name": "Python 3",
   "language": "python",
   "name": "python3"
  },
  "language_info": {
   "codemirror_mode": {
    "name": "ipython",
    "version": 3
   },
   "file_extension": ".py",
   "mimetype": "text/x-python",
   "name": "python",
   "nbconvert_exporter": "python",
   "pygments_lexer": "ipython3",
   "version": "3.8.8"
  }
 },
 "nbformat": 4,
 "nbformat_minor": 4
}
